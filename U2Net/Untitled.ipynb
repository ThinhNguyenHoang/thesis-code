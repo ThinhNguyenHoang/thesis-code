{
 "cells": [
  {
   "cell_type": "code",
   "execution_count": null,
   "id": "e1900abf",
   "metadata": {},
   "outputs": [],
   "source": [
    "!python -m trainer.train --data_loading_mode=1 --learning_rate=0.002"
   ]
  },
  {
   "cell_type": "code",
   "execution_count": 2,
   "id": "6ce0cd3a",
   "metadata": {},
   "outputs": [
    {
     "name": "stdout",
     "output_type": "stream",
     "text": [
      "/dmc/trainer\n"
     ]
    }
   ],
   "source": [
    "%cd trainer "
   ]
  },
  {
   "cell_type": "code",
   "execution_count": 10,
   "id": "0fac9017",
   "metadata": {},
   "outputs": [
    {
     "name": "stdout",
     "output_type": "stream",
     "text": [
      ".\t\t\t  sun_bpdgwtepgxqovhqz.jpg  sun_bwbhnfcnofofbvln.jpg\r\n",
      "..\t\t\t  sun_bphgjrvusnbakems.jpg  sun_bwqkcopmnmjftesd.jpg\r\n",
      "sun_blevcquybnxhyqpo.jpg  sun_bpkzxgzfcbqufuhl.jpg  sun_bwuqigvlvwdpvgxf.jpg\r\n",
      "sun_blewytlvnsaknhfm.jpg  sun_bpskwxthudnpsjsx.jpg  sun_bxukkxzbyvgrppga.jpg\r\n",
      "sun_bloiepetajcmgjea.jpg  sun_bptvsklugzthdsvr.jpg  sun_bxyuukfdhtbdfalo.jpg\r\n",
      "sun_blrxwxozhbwwbomb.jpg  sun_bqxmpqprvceuukrp.jpg  sun_bycbslbkklxwjzae.jpg\r\n",
      "sun_bltxvefsfjcczkep.jpg  sun_brbymiqqcfkijqko.jpg  sun_byokesjvhivrbksy.jpg\r\n",
      "sun_bmaxfxfzjpcbfbzv.jpg  sun_brtkvwdzmofnumti.jpg  sun_byrhmeymctatbmyh.jpg\r\n",
      "sun_bmhzdbzfwpzapfdm.jpg  sun_bsfoombdzwukkrwr.jpg  sun_bysimhtepnxaoqew.jpg\r\n",
      "sun_bmibzryxgjxdkkmz.jpg  sun_bsgecqaxotjmdmtc.jpg  sun_bzgnktlmvljaawtx.jpg\r\n",
      "sun_bmkeidmsbrgldpyu.jpg  sun_bskdxgivhzoyczkm.jpg  sun_bzphsbodnobynmql.jpg\r\n",
      "sun_bmncqthmkuozzoer.jpg  sun_bsxucgelzldkmasn.jpg  sun_bzpplgfcoucekaud.jpg\r\n",
      "sun_bnccwkfpedfyjptv.jpg  sun_btmxdkrnymjzbcnj.jpg  sun_bzqfyfzrykaaoxra.jpg\r\n",
      "sun_bnmfouesrgmbklgf.jpg  sun_btpaokvdlqedxmdq.jpg  sun_bzqnwbjyvhmotvcu.jpg\r\n",
      "sun_bnqvikfasjffokmx.jpg  sun_btslbdkuhizidarp.jpg  sun_cceeapoklvyrjgte.jpg\r\n",
      "sun_bnskyqooqopydrxr.jpg  sun_btzdowcyqiyizeei.jpg  sun_cctsbovvkqbwpxgn.jpg\r\n",
      "sun_bnurgxuweprtmrwc.jpg  sun_buftmindmopkxolf.jpg  sun_cgldefwbwikfpyrh.jpg\r\n",
      "sun_bohljlqgdtydhjdy.jpg  sun_bujfgxiysguzentt.jpg  sun_cusxlgfeeeicytuv.jpg\r\n",
      "sun_borkhuoyzurajaun.jpg  sun_bulfgxlqkjpegkuu.jpg  sun_dhdzmvwgtsedkkgv.jpg\r\n",
      "sun_boujnixvugpagelu.jpg  sun_butoyfxzjbeuwpzf.jpg  sun_dielyavhzjucptwl.jpg\r\n",
      "sun_bounwtxdrpdpwpur.jpg  sun_bvbkdowsldfeebql.jpg  sun_dnxhxsnxwjesksua.jpg\r\n",
      "sun_bozkabojwlnripdl.jpg  sun_bvluocmpqsvuwgpq.jpg  test_dzkggnowaqnfrorl.jpg\r\n"
     ]
    }
   ],
   "source": [
    "!export DISPLAY=:0\n",
    "\n",
    "\n",
    "!ls -a local_test_data/DUTS-TR/DUTS-TR-Image "
   ]
  },
  {
   "cell_type": "code",
   "execution_count": 12,
   "id": "f9a7810b",
   "metadata": {},
   "outputs": [
    {
     "name": "stdout",
     "output_type": "stream",
     "text": [
      "(300, 400, 3)   360000\n"
     ]
    },
    {
     "ename": "error",
     "evalue": "OpenCV(4.6.0) /usr/local/src/opencv/modules/highgui/src/window_gtk.cpp:652: error: (-2:Unspecified error) GTK backend is not available in function 'cvInitSystem'\n",
     "output_type": "error",
     "traceback": [
      "\u001b[0;31m---------------------------------------------------------------------------\u001b[0m",
      "\u001b[0;31merror\u001b[0m                                     Traceback (most recent call last)",
      "Input \u001b[0;32mIn [12]\u001b[0m, in \u001b[0;36m<cell line: 6>\u001b[0;34m()\u001b[0m\n\u001b[1;32m      4\u001b[0m img \u001b[38;5;241m=\u001b[39m cv2\u001b[38;5;241m.\u001b[39mimread(\u001b[38;5;124m'\u001b[39m\u001b[38;5;124mlocal_test_data/DUTS-TR/DUTS-TR-Image/sun_bpdgwtepgxqovhqz.jpg\u001b[39m\u001b[38;5;124m'\u001b[39m)\n\u001b[1;32m      5\u001b[0m \u001b[38;5;28mprint\u001b[39m(img\u001b[38;5;241m.\u001b[39mshape, \u001b[38;5;124m\"\u001b[39m\u001b[38;5;124m \u001b[39m\u001b[38;5;124m\"\u001b[39m, img\u001b[38;5;241m.\u001b[39msize)\n\u001b[0;32m----> 6\u001b[0m \u001b[43mcv2\u001b[49m\u001b[38;5;241;43m.\u001b[39;49m\u001b[43mimshow\u001b[49m\u001b[43m(\u001b[49m\u001b[38;5;124;43m'\u001b[39;49m\u001b[38;5;124;43mimage\u001b[39;49m\u001b[38;5;124;43m'\u001b[39;49m\u001b[43m,\u001b[49m\u001b[43m \u001b[49m\u001b[43mimg\u001b[49m\u001b[43m)\u001b[49m\n\u001b[1;32m      7\u001b[0m cv2\u001b[38;5;241m.\u001b[39mwaitKey(\u001b[38;5;241m0\u001b[39m) \u001b[38;5;241m&\u001b[39m \u001b[38;5;241m0xFF\u001b[39m\n\u001b[1;32m      8\u001b[0m cv2\u001b[38;5;241m.\u001b[39mdestroyAllWindows()\n",
      "\u001b[0;31merror\u001b[0m: OpenCV(4.6.0) /usr/local/src/opencv/modules/highgui/src/window_gtk.cpp:652: error: (-2:Unspecified error) GTK backend is not available in function 'cvInitSystem'\n"
     ]
    }
   ],
   "source": [
    "import numpy as np\n",
    "import cv2\n",
    "\n",
    "img = cv2.imread('local_test_data/DUTS-TR/DUTS-TR-Image/sun_bpdgwtepgxqovhqz.jpg')\n",
    "print(img.shape, \" \", img.size)\n",
    "cv2.imshow('image', img)\n",
    "cv2.waitKey(0) & 0xFF\n",
    "cv2.destroyAllWindows()"
   ]
  }
 ],
 "metadata": {
  "kernelspec": {
   "display_name": "Python 3 (ipykernel)",
   "language": "python",
   "name": "python3"
  },
  "language_info": {
   "codemirror_mode": {
    "name": "ipython",
    "version": 3
   },
   "file_extension": ".py",
   "mimetype": "text/x-python",
   "name": "python",
   "nbconvert_exporter": "python",
   "pygments_lexer": "ipython3",
   "version": "3.8.10"
  }
 },
 "nbformat": 4,
 "nbformat_minor": 5
}
